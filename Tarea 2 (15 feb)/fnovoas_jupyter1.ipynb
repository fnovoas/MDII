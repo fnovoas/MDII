{
 "cells": [
  {
   "cell_type": "markdown",
   "id": "581b883c",
   "metadata": {},
   "source": [
    "# Identificación de grupos a partir de tablas\n",
    "## Fernando Novoa Salazar\n",
    "## Matemáticas Discretas II"
   ]
  },
  {
   "cell_type": "markdown",
   "id": "cff14326",
   "metadata": {},
   "source": [
    "Tenemos que crear un código, el cual nos permite determinar si una tabla es un grupo y/o un cuadrado latino. Para ello, primero debemos capturar los datos de una tabla y guardarlos en una estructura que podamos verificar."
   ]
  },
  {
   "cell_type": "markdown",
   "id": "5a9a3c66",
   "metadata": {},
   "source": [
    "Lo primero que haremos es pedirle al usuario que ingrese los elementos del conjunto separados por espacios, y los guardaremos en una lista de strings:"
   ]
  },
  {
   "cell_type": "code",
   "execution_count": 1,
   "id": "8ed542cd",
   "metadata": {},
   "outputs": [
    {
     "name": "stdout",
     "output_type": "stream",
     "text": [
      "Ingrese los elementos del conjunto separados por espacios: a b c e\n",
      "['a', 'b', 'c', 'e']\n"
     ]
    }
   ],
   "source": [
    "elementos = list(map(str, input(\"Ingrese los elementos del conjunto separados por espacios: \").split()))\n",
    "print(elementos)"
   ]
  },
  {
   "cell_type": "markdown",
   "id": "c6c90b56",
   "metadata": {},
   "source": [
    "Ahora, se le pide al usuario el resultado de realizar la operación binaria entre cada pareja de elementos, se construye la tabla de resultados y se almacenan en un diccionario:"
   ]
  },
  {
   "cell_type": "code",
   "execution_count": 2,
   "id": "df94033d",
   "metadata": {
    "scrolled": false
   },
   "outputs": [
    {
     "name": "stdout",
     "output_type": "stream",
     "text": [
      "Ingrese el resultado de aplicar la operación binaria al elemento a y al elemento a: a\n",
      "Ingrese el resultado de aplicar la operación binaria al elemento a y al elemento b: e\n",
      "Ingrese el resultado de aplicar la operación binaria al elemento a y al elemento c: b\n",
      "Ingrese el resultado de aplicar la operación binaria al elemento a y al elemento e: c\n",
      "Ingrese el resultado de aplicar la operación binaria al elemento b y al elemento a: e\n",
      "Ingrese el resultado de aplicar la operación binaria al elemento b y al elemento b: a\n",
      "Ingrese el resultado de aplicar la operación binaria al elemento b y al elemento c: c\n",
      "Ingrese el resultado de aplicar la operación binaria al elemento b y al elemento e: b\n",
      "Ingrese el resultado de aplicar la operación binaria al elemento c y al elemento a: b\n",
      "Ingrese el resultado de aplicar la operación binaria al elemento c y al elemento b: c\n",
      "Ingrese el resultado de aplicar la operación binaria al elemento c y al elemento c: a\n",
      "Ingrese el resultado de aplicar la operación binaria al elemento c y al elemento e: e\n",
      "Ingrese el resultado de aplicar la operación binaria al elemento e y al elemento a: c\n",
      "Ingrese el resultado de aplicar la operación binaria al elemento e y al elemento b: b\n",
      "Ingrese el resultado de aplicar la operación binaria al elemento e y al elemento c: e\n",
      "Ingrese el resultado de aplicar la operación binaria al elemento e y al elemento e: a\n",
      "La matriz de resultados de la operación binaria es:\n",
      "a e b c \n",
      "e a c b \n",
      "b c a e \n",
      "c b e a \n"
     ]
    }
   ],
   "source": [
    "dicc_operaciones = {}\n",
    "tabla = [[0 for i in range(len(elementos))] for j in range(len(elementos))]\n",
    "for i in range(len(elementos)):\n",
    "    for j in range(len(elementos)):\n",
    "        tabla[i][j] = input(\"Ingrese el resultado de aplicar la operación binaria al elemento {} y al elemento {}: \".format(elementos[i], elementos[j]))\n",
    "        dicc_operaciones[str(elementos[i]),str(elementos[j])]=str(tabla[i][j])\n",
    "\n",
    "\n",
    "print(\"La matriz de resultados de la operación binaria es:\")\n",
    "for i in range(len(elementos)):\n",
    "    for j in range(len(elementos)):\n",
    "        print(tabla[i][j], end=\" \")\n",
    "    print()"
   ]
  },
  {
   "cell_type": "markdown",
   "id": "a382208b",
   "metadata": {},
   "source": [
    "Ahora verificamos que la operacion sea cerrada, usando la tabla de resultados. Verificamos todos los pares de elementos:"
   ]
  },
  {
   "cell_type": "code",
   "execution_count": 3,
   "id": "c40f0a9d",
   "metadata": {},
   "outputs": [
    {
     "name": "stdout",
     "output_type": "stream",
     "text": [
      "La operación es cerrada.\n"
     ]
    }
   ],
   "source": [
    "cerrada = True\n",
    "for i in range(len(elementos)):\n",
    "    for j in range(len(elementos)):\n",
    "        if tabla[i][j] not in elementos:\n",
    "            cerrada = False\n",
    "\n",
    "if cerrada:\n",
    "    print(\"La operación es cerrada.\")\n",
    "else:\n",
    "    print(\"La operación no es cerrada.\")"
   ]
  },
  {
   "cell_type": "markdown",
   "id": "bc483f19",
   "metadata": {},
   "source": [
    "Lo siguiente que verificaremos es si la operación es asociativa, evaluando las posibles ternas del conjunto:"
   ]
  },
  {
   "cell_type": "code",
   "execution_count": 4,
   "id": "31bac715",
   "metadata": {},
   "outputs": [
    {
     "name": "stdout",
     "output_type": "stream",
     "text": [
      "La operación es asociativa.\n"
     ]
    }
   ],
   "source": [
    "asociativa = True\n",
    "for i in range(len(elementos)):\n",
    "    for j in range(len(elementos)):\n",
    "        for k in range(len(elementos)):\n",
    "            if (tabla[i][j] in elementos and tabla[j][k] in elementos):\n",
    "                resultado1 = dicc_operaciones[tabla[i][j], tabla[j][k]]\n",
    "            else:\n",
    "                resultado1 = None\n",
    "            if (tabla[j][k] in elementos and tabla[i][j] in elementos):\n",
    "                resultado2 = dicc_operaciones[tabla[j][k], tabla[i][j]]\n",
    "            else:\n",
    "                resultado2 = None\n",
    "            if resultado1 != resultado2:\n",
    "                asociativa = False\n",
    "                break\n",
    "        if not asociativa:\n",
    "            break\n",
    "    if not asociativa:\n",
    "        break\n",
    "\n",
    "if asociativa:\n",
    "    print(\"La operación es asociativa.\")\n",
    "else:\n",
    "    print(\"La operación no es asociativa.\")"
   ]
  },
  {
   "cell_type": "markdown",
   "id": "4a5ad1d1",
   "metadata": {},
   "source": [
    "Lo siguiente que verificaremos, es si en la operación existe el elemento neutro. Primero tomamos una lista que contiene los elementos del conjunto que son neutros para al menos un elemento del conjunto, sabremos que la operación tiene elemento neutro si la lista tiene un único elemento:"
   ]
  },
  {
   "cell_type": "code",
   "execution_count": 5,
   "id": "014e72b9",
   "metadata": {},
   "outputs": [
    {
     "name": "stdout",
     "output_type": "stream",
     "text": [
      "No hay elemento neutro.\n"
     ]
    }
   ],
   "source": [
    "neutros = []\n",
    "for i in range(len(elementos)):\n",
    "    for j in range(len(elementos)):\n",
    "        if dicc_operaciones[str(elementos[i]),str(elementos[j])]==str(elementos[i]):\n",
    "            neutros.append(elementos[j])\n",
    "\n",
    "neutro = True\n",
    "ele_neutro = None\n",
    "for i in range(len(neutros)):\n",
    "    if neutros[0]!= neutros[i]:\n",
    "        neutro = False\n",
    "\n",
    "if neutro:\n",
    "    ele_neutro = neutros[0]\n",
    "    print('El elemento neutro es:',ele_neutro)\n",
    "else:\n",
    "    print('No hay elemento neutro.')"
   ]
  },
  {
   "cell_type": "markdown",
   "id": "019b9d47",
   "metadata": {},
   "source": [
    "Lo siguiente que verificaremos, es si la operacion es si existen elemetos inversos. Consideramos en una lista los elementos del conjunto que tienen un inverso en la operación, nos quedamos con los elementos que al operarnos den el elemento neutro. Comparando las longitudes de las listas, sabemos si todos los elementos del conjunto tienen su respectivo inverso:"
   ]
  },
  {
   "cell_type": "code",
   "execution_count": 6,
   "id": "7aed20b9",
   "metadata": {},
   "outputs": [
    {
     "name": "stdout",
     "output_type": "stream",
     "text": [
      "No hay elementos inversos, o no todos los elementos tienen el suyo.\n"
     ]
    }
   ],
   "source": [
    "inversos = []\n",
    "inverso = False\n",
    "for i in range(len(elementos)):\n",
    "    for j in range(len(elementos)):\n",
    "        if dicc_operaciones[str(elementos[i]),str(elementos[j])]==str(ele_neutro):\n",
    "            inversos.append(elementos[j])   \n",
    "\n",
    "if len(inversos) == len(elementos):\n",
    "    inverso = True\n",
    "    print('Sí hay elementos inversos, son:', inversos)\n",
    "else:\n",
    "    print('No hay elementos inversos, o no todos los elementos tienen el suyo.')"
   ]
  },
  {
   "cell_type": "markdown",
   "id": "47539778",
   "metadata": {},
   "source": [
    "Por ultimo, determinamos si es grupo y/o cuadrado latino. Para ser grupo debe ser cerrado, asociativo, tener elemento neutro y que todos los elementos tengan un inverso. Para ser cuadrado latino, todos los elementos en cada fila y en cada columna deben ser distintos, los recorremos para comprobar:"
   ]
  },
  {
   "cell_type": "code",
   "execution_count": 7,
   "id": "f174127b",
   "metadata": {},
   "outputs": [
    {
     "name": "stdout",
     "output_type": "stream",
     "text": [
      "No es un grupo.\n",
      "Es un cuadrado latino.\n"
     ]
    }
   ],
   "source": [
    "if cerrada & asociativa & neutro & inverso:\n",
    "    print('Sí es un grupo.')\n",
    "else:\n",
    "    print('No es un grupo.')\n",
    "\n",
    "es_cuadrado_latino = True\n",
    "for i in range(len(elementos)):\n",
    "    if set(tabla[i]) != set(elementos):\n",
    "        es_cuadrado_latino = False\n",
    "        break\n",
    "    if set([tabla[j][i] for j in range(len(elementos))]) != set(elementos):\n",
    "        es_cuadrado_latino = False\n",
    "        break\n",
    "\n",
    "if es_cuadrado_latino:\n",
    "    print('Es un cuadrado latino.')\n",
    "else:\n",
    "    print('No es un cuadrado latino.')\n"
   ]
  }
 ],
 "metadata": {
  "kernelspec": {
   "display_name": "Python 3 (ipykernel)",
   "language": "python",
   "name": "python3"
  },
  "language_info": {
   "codemirror_mode": {
    "name": "ipython",
    "version": 3
   },
   "file_extension": ".py",
   "mimetype": "text/x-python",
   "name": "python",
   "nbconvert_exporter": "python",
   "pygments_lexer": "ipython3",
   "version": "3.11.1"
  }
 },
 "nbformat": 4,
 "nbformat_minor": 5
}
