{
  "cells": [
    {
      "attachments": {},
      "cell_type": "markdown",
      "metadata": {},
      "source": [
        "# Comprobación de tiempo por método tradicional vs. Totient de Euler\n",
        "## Fernando Novoa Salazar\n",
        "## Matemáticas Discretas II"
      ]
    },
    {
      "attachments": {},
      "cell_type": "markdown",
      "metadata": {},
      "source": [
        "Tenemos que crear un código para comparar dos métodos diferentes para calcular la cantidad de números coprimos de un número dado. Compararemos el método tradicional de comprarlos uno por uno contra la función fi de Euler o Totient de Euler.\n",
        "\n",
        "El método tradicional de comprobar 1 a 1 se implementa con la función \"contar_coprimos\", que utiliza un bucle para iterar a través de los números desde 1 hasta n-1, y comprueba el MCD de cada número con n para determinar si es coprimo. Cabe aclarar que esta implementación puede ser lenta para números muy grandes.\n",
        "\n",
        "El método del Totient de Euler es una fórmula matemática más eficiente para calcular la cantidad de números coprimos de un número dado. La función Totient de Euler devuelve el número de enteros positivos menores que n que son coprimos con n.\n",
        "\n",
        "El programa mide el tiempo que tarda cada uno de estos métodos en calcular la cantidad de números coprimos de un número grande \"p\". La comparación permite verificar si el método de la función \"contar_coprimos\" es más lento que la fórmula de Totient de Euler en el cálculo de los números coprimos."
      ]
    },
    {
      "attachments": {},
      "cell_type": "markdown",
      "metadata": {},
      "source": [
        "Primero, escribimos en Python el programa para calcular el número de coprimos de un número y medir el tiempo que toma la función en ejecutarse."
      ]
    },
    {
      "cell_type": "code",
      "execution_count": null,
      "metadata": {
        "trusted": true
      },
      "outputs": [],
      "source": [
        "import time\n",
        "#Definir una función que calcule el máximo común divisor de dos números\n",
        "p=8396724 #Escogemos un número grande cualquiera\n",
        "def mcd(a, b):\n",
        "  #Si b es cero, el mcd es a\n",
        "  if b == 0:\n",
        "    return a\n",
        "  #Si no, aplicar el algoritmo de Euclides recursivamente\n",
        "  else:\n",
        "    return mcd(b, a % b)\n",
        "\n",
        "#Definir una función que cuente los coprimos de un número n\n",
        "def contar_coprimos(n):\n",
        "  #Inicializar un contador en cero\n",
        "  contador = 0\n",
        "  #Recorrer los números desde 1 hasta n-1\n",
        "  for i in range(1, n):\n",
        "    #Si el mcd de i y n es uno, incrementar el contador\n",
        "    if mcd(i, n) == 1:\n",
        "      contador += 1\n",
        "  #Devolver el contador como resultado\n",
        "  return contador\n",
        "\n",
        "#Probar la función con algunos ejemplos\n",
        "\n",
        "print(contar_coprimos(p))\n",
        "\n",
        "inicio = time.perf_counter()\n",
        "contar_coprimos(p)\n",
        "fin = time.perf_counter()\n",
        "tiempo = fin - inicio\n",
        "print(f\"La función Euler Totient usual tomó {tiempo} segundos en ejecutarse.\")\n"
      ]
    },
    {
      "attachments": {},
      "cell_type": "markdown",
      "metadata": {},
      "source": [
        "Ahora, escribimos el programa para calcular la cantidad de generadores módulo p y el tiempo que tarda la función en ejecutarse, donde p es un número primo.\n",
        "Definimos un generador módulo p como un número g tal que todos los elementos en el conjunto {g^0, g^1, ..., g^(p-2)} son diferentes módulo p. Es decir, el conjunto completo de los residuos módulo p se puede obtener elevando el generador g a las potencias de 0 a p-2.\n",
        "\n",
        "La función descompone el número primo p en sus factores primos y luego utiliza la función Totient de Euler para calcular la cantidad de enteros positivos menores que p que son coprimos con p. La cantidad de generadores módulo p es igual a la cantidad de enteros positivos menores que p que son coprimos con p.\n"
      ]
    },
    {
      "cell_type": "code",
      "execution_count": null,
      "metadata": {
        "trusted": true
      },
      "outputs": [],
      "source": [
        "import math\n",
        "import time\n",
        "p=10\n",
        "def cantidad_generadores(p):\n",
        "    if p == 1:\n",
        "        return 1\n",
        "    # Descomponer p en factores primos\n",
        "    factores = []\n",
        "    i = 2\n",
        "    while i * i <= p:\n",
        "        if p % i:\n",
        "            i += 1\n",
        "        else:\n",
        "            p //= i\n",
        "            factores.append(i)\n",
        "    if p > 1:\n",
        "        factores.append(p)\n",
        "    # Calcular el totient de cada factor\n",
        "    #Aquí también usamos los teoremas de la función totient\n",
        "    totients = []\n",
        "    for factor in set(factores):\n",
        "        if factores.count(factor) == 1:\n",
        "            totients.append(factor - 1)\n",
        "        else:\n",
        "            totients.append(factor**(factores.count(factor) - 1) * (factor - 1))\n",
        "    #Calcular el producto de los totients\n",
        "    totient = 1\n",
        "    for t in totients:\n",
        "        totient *= t\n",
        "    return totient\n",
        "\n",
        "print(cantidad_generadores(p))\n",
        "\n",
        "inicio = time.perf_counter()\n",
        "cantidad_generadores(p)\n",
        "fin = time.perf_counter()\n",
        "tiempo = fin - inicio\n",
        "print(f\"La función Euler Totient inteligente tomó {tiempo} segundos en ejecutarse.\")"
      ]
    }
  ],
  "metadata": {
    "kernelspec": {
      "display_name": "Python (Pyodide)",
      "language": "python",
      "name": "python"
    },
    "language_info": {
      "codemirror_mode": {
        "name": "python",
        "version": 3
      },
      "file_extension": ".py",
      "mimetype": "text/x-python",
      "name": "python",
      "nbconvert_exporter": "python",
      "pygments_lexer": "ipython3",
      "version": "3.8"
    }
  },
  "nbformat": 4,
  "nbformat_minor": 4
}
