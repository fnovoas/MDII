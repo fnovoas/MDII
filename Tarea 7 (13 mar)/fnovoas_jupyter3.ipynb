{
  "cells": [
    {
      "attachments": {},
      "cell_type": "markdown",
      "metadata": {},
      "source": [
        "# Expresión de un número como la suma de la menor cantidad de cuadrados.\n",
        "## Fernando Novoa Salazar\n",
        "## Matemáticas Discretas II"
      ]
    },
    {
      "attachments": {},
      "cell_type": "markdown",
      "metadata": {},
      "source": [
        "Tenemos que crear un código para expresar un número como una suma de cuadrados, usando la menor cantidad de cuadrados. El programa calcula la cantidad mínima de cuadrados enteros necesarios para expresar un número dado n como una suma de cuadrados. La idea principal del programa es usar una función recursiva que busque todas las posibles combinaciones de cuadrados enteros que sumen n, y devolver la cantidad mínima de cuadrados necesarios."
      ]
    },
    {
      "cell_type": "code",
      "execution_count": null,
      "metadata": {},
      "outputs": [],
      "source": [
        "n = int(input(\"Ingrese un número n: \"))\n",
        "# Definir una función que calcule la cantidad mínima de enteros al cuadrado para representar un número n\n",
        "def suma_cuadrados(n):\n",
        "  if n == 0 or n == 1:\n",
        "    return n\n",
        "  else:\n",
        "    resultados = []   # Lista vacía para almacenar los posibles resultados\n",
        "    #Recorremos hasta la raíz cuadrada de n ya que en dado caso que los números anteriores a la raíz de n\n",
        "    #no cumplan con que al sumarse den n, solo la raíz de n la cumple \n",
        "    for i in range(1, int(n**0.5) + 1):\n",
        "      # Calcular el resto de dividir n entre i^2\n",
        "      resto = n - i**2"
      ]
    },
    {
      "attachments": {},
      "cell_type": "markdown",
      "metadata": {},
      "source": [
        "Llamamos recursivamente a la función con el resto y sumamos 1 al resultado. Tenemos un +1 en este resultado ya que, cuando usamos la recursividad aquí usamos también un ciclo for, este ciclo implica que se está usando un nuevo cuadrado, por lo tanto, se tiene que sumar iterativamente hasta que la función recursiva reciba 0 o 1 como argumento. Además, debemos utilizar el resto como argumento de la función recursiva porque representa la parte de n que no ha sido cubierta por los cuadrados anteriores."
      ]
    },
    {
      "cell_type": "code",
      "execution_count": 8,
      "metadata": {
        "trusted": true
      },
      "outputs": [
        {
          "name": "stdout",
          "output_type": "stream",
          "text": [
            "2\n"
          ]
        }
      ],
      "source": [
        "      resultado = suma_cuadrados(resto) + 1\n",
        "      # Añadir el resultado a la lista de posibles resultados\n",
        "      resultados.append(resultado)\n",
        "    # Devolver el mínimo de la lista de posibles resultados como resultado final\n",
        "    return min(resultados)\n",
        "print(suma_cuadrados(n))"
      ]
    }
  ],
  "metadata": {
    "kernelspec": {
      "display_name": "Python (Pyodide)",
      "language": "python",
      "name": "python"
    },
    "language_info": {
      "codemirror_mode": {
        "name": "python",
        "version": 3
      },
      "file_extension": ".py",
      "mimetype": "text/x-python",
      "name": "python",
      "nbconvert_exporter": "python",
      "pygments_lexer": "ipython3",
      "version": "3.8"
    }
  },
  "nbformat": 4,
  "nbformat_minor": 4
}
